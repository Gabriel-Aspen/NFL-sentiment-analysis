{
  "nbformat": 4,
  "nbformat_minor": 0,
  "metadata": {
    "colab": {
      "name": "eagles_sentiment_analysis",
      "provenance": [],
      "collapsed_sections": [],
      "authorship_tag": "ABX9TyNzYv7F950YkSPY5j3MAoWk",
      "include_colab_link": true
    },
    "kernelspec": {
      "name": "python3",
      "display_name": "Python 3"
    }
  },
  "cells": [
    {
      "cell_type": "markdown",
      "metadata": {
        "id": "view-in-github",
        "colab_type": "text"
      },
      "source": [
        "<a href=\"https://colab.research.google.com/github/Gabriel-Aspen/NFL-sentiment-analysis/blob/updated/eagles_sentiment_analysis.ipynb\" target=\"_parent\"><img src=\"https://colab.research.google.com/assets/colab-badge.svg\" alt=\"Open In Colab\"/></a>"
      ]
    },
    {
      "cell_type": "code",
      "metadata": {
        "id": "cOvAmWDaLOVE",
        "colab_type": "code",
        "outputId": "84f3dc28-ac09-4188-8812-2f5440c8d3a5",
        "colab": {
          "base_uri": "https://localhost:8080/",
          "height": 54
        }
      },
      "source": [
        "from google.colab import drive\n",
        "drive.mount('/content/gdrive')\n",
        "import os\n",
        "os.chdir('/content/gdrive/My Drive/Colab Notebooks')\n",
        "current_dir = os.getcwd()"
      ],
      "execution_count": 2,
      "outputs": [
        {
          "output_type": "stream",
          "text": [
            "Drive already mounted at /content/gdrive; to attempt to forcibly remount, call drive.mount(\"/content/gdrive\", force_remount=True).\n"
          ],
          "name": "stdout"
        }
      ]
    },
    {
      "cell_type": "markdown",
      "metadata": {
        "id": "2I6p6V_VdPSB",
        "colab_type": "text"
      },
      "source": [
        "Download these two libraries we will be using"
      ]
    },
    {
      "cell_type": "code",
      "metadata": {
        "id": "tSPhdX-zi8Df",
        "colab_type": "code",
        "colab": {}
      },
      "source": [
        "pip install SpeechRecognition"
      ],
      "execution_count": 0,
      "outputs": []
    },
    {
      "cell_type": "code",
      "metadata": {
        "id": "kmvDmWZRF7uK",
        "colab_type": "code",
        "colab": {}
      },
      "source": [
        "pip install vaderSentiment"
      ],
      "execution_count": 0,
      "outputs": []
    },
    {
      "cell_type": "markdown",
      "metadata": {
        "id": "8btbPKaXoC4J",
        "colab_type": "text"
      },
      "source": [
        "##Sentiment Analysis from Transcibed Audio\n",
        "1. Speech is transcribed in 10 second intervals using Google Web Speech API\n",
        "2. The transcript is passed through vaderSentiment's SentimentIntensityAnalyzer. The metric I've chosen is compound because it's aggregation of positive, negative and neutral sentiment\n",
        "3. The data is smoothed using a rolling mean"
      ]
    },
    {
      "cell_type": "markdown",
      "metadata": {
        "id": "qzNEP-XB0Prc",
        "colab_type": "text"
      },
      "source": [
        "Import libraries"
      ]
    },
    {
      "cell_type": "code",
      "metadata": {
        "id": "ozx7slD0oHs-",
        "colab_type": "code",
        "colab": {}
      },
      "source": [
        "import speech_recognition as spr\n",
        "from vaderSentiment.vaderSentiment import SentimentIntensityAnalyzer\n",
        "import numpy as np\n",
        "import pandas as pd\n",
        "import matplotlib.pyplot as plt\n",
        "%matplotlib inline\n",
        "import pickle"
      ],
      "execution_count": 0,
      "outputs": []
    },
    {
      "cell_type": "markdown",
      "metadata": {
        "id": "c0HOuIOEd9to",
        "colab_type": "text"
      },
      "source": [
        "Transcribe the audio with Google's web speech API using speech_recognition\n",
        "- We set window_size = 10 for 10 second intervals, however you can go longer or shorter\n",
        "- Depending on the size of the .wav file you may need to adjust the number of steps. This file is about 2.5 hours long (9000 seconds, or 900 10-second intervals)\n",
        "- Overlapping the windows might allow us to better capture the context of what the announcer is saying. This code let's you specify what percent (as a decimal) you want window i to overlap with window i+1. For now I set it as 0"
      ]
    },
    {
      "cell_type": "code",
      "metadata": {
        "id": "CJAgfwWRYKLn",
        "colab_type": "code",
        "colab": {}
      },
      "source": [
        "infile = 'nfl_SA/eagles.wav' #path to the .wav file\n",
        "\n",
        "def makeTranscript(audio_file = False, steps=900, window_size=10, overlap= 0):\n",
        "  if audio_file == False:\n",
        "    return 'no input'\n",
        "  else:\n",
        "    transcript = []\n",
        "    for step in range(steps):\n",
        "      r = spr.Recognizer()\n",
        "      with spr.AudioFile(audio_file) as source:\n",
        "          offset_multi = window_size * (1-overlap) # overlap- how much to overlap with the next window\n",
        "          audio = r.record(source, duration=window_size , offset=step * offset_multi)\n",
        "      try:\n",
        "          text = r.recognize_google(audio) #google web API recognizer- however there are many other options\n",
        "          transcript.append([text])\n",
        "      except spr.UnknownValueError:\n",
        "          text = 'error'\n",
        "      except spr.RequestError as e:\n",
        "          False\n",
        "    return np.array(transcript)\n",
        "\n",
        "transcript = makeTranscript(infile)"
      ],
      "execution_count": 0,
      "outputs": []
    },
    {
      "cell_type": "markdown",
      "metadata": {
        "id": "iOXmGYQ1egPt",
        "colab_type": "text"
      },
      "source": [
        "Generate VADER sentiment scores from the transcript"
      ]
    },
    {
      "cell_type": "code",
      "metadata": {
        "id": "petCuphbegmJ",
        "colab_type": "code",
        "colab": {}
      },
      "source": [
        "def vaderAnalyzer(transcript, element= 'compound'):\n",
        "  analyzer_obj = SentimentIntensityAnalyzer()\n",
        "  sent_dict = []\n",
        "  for i in range(int(transcript.size)):\n",
        "    score_set = analyzer_obj.polarity_scores(str(transcript[i])) #returns a dictionary of different types of sentiment scores\n",
        "    sent_dict.append(score_set)\n",
        "  chosen_element = [] # can be positive, negative, neutral or compound\n",
        "  for i in range(len(sent_dict)):\n",
        "    chosen_element.append(sent_dict[i][element])\n",
        "  return chosen_element\n",
        "\n",
        "scores = vaderAnalyzer(transcript, element= 'compound')"
      ],
      "execution_count": 0,
      "outputs": []
    },
    {
      "cell_type": "markdown",
      "metadata": {
        "id": "4vUXLA1zgCkr",
        "colab_type": "text"
      },
      "source": [
        "Plot the scores"
      ]
    },
    {
      "cell_type": "code",
      "metadata": {
        "id": "A6Hv8gjjgCxS",
        "colab_type": "code",
        "colab": {
          "base_uri": "https://localhost:8080/",
          "height": 283
        },
        "outputId": "87fea7ed-995e-466d-c9d9-528841b3e786"
      },
      "source": [
        "plt.plot(scores) # 10 second intervals = 9000 total seconds"
      ],
      "execution_count": 9,
      "outputs": [
        {
          "output_type": "execute_result",
          "data": {
            "text/plain": [
              "[<matplotlib.lines.Line2D at 0x7fda73d11d30>]"
            ]
          },
          "metadata": {
            "tags": []
          },
          "execution_count": 9
        },
        {
          "output_type": "display_data",
          "data": {
            "image/png": "[encoded data removed]",
            "text/plain": [
              "<Figure size 432x288 with 1 Axes>"
            ]
          },
          "metadata": {
            "tags": [],
            "needs_background": "light"
          }
        }
      ]
    },
    {
      "cell_type": "markdown",
      "metadata": {
        "id": "ozB2hTKoeqRp",
        "colab_type": "text"
      },
      "source": [
        "The data is very noisy, try smoothing it out using a rolling mean (average within a window of points)"
      ]
    },
    {
      "cell_type": "code",
      "metadata": {
        "id": "tdoyUnItxr58",
        "colab_type": "code",
        "outputId": "1dee5aef-fb78-4bf7-ee2f-9dae8e2ac099",
        "colab": {
          "base_uri": "https://localhost:8080/",
          "height": 295
        }
      },
      "source": [
        "df = pd.DataFrame(scores, columns=['scores'])\n",
        "df['rolling_mean'] = df.rolling(window=50).mean() # window size of 50 points\n",
        "df['minutes'] = ((df.index +1) *10)/60 # put X in terms of minutes\n",
        "plt.plot(df.minutes, df.rolling_mean)\n",
        "\n",
        "plt.title('Announcer Opinion During Superbowl LII')\n",
        "plt.xlabel('minutes')\n",
        "plt.ylabel('Relative Sentiment');"
      ],
      "execution_count": 65,
      "outputs": [
        {
          "output_type": "display_data",
          "data": {
            "image/png": "[encoded data removed]",
            "text/plain": [
              "<Figure size 432x288 with 1 Axes>"
            ]
          },
          "metadata": {
            "tags": [],
            "needs_background": "light"
          }
        }
      ]
    },
    {
      "cell_type": "markdown",
      "metadata": {
        "id": "OgAR_HShqDy0",
        "colab_type": "text"
      },
      "source": [
        "Notice how the sentiment scores are now all above 0. Since the data is being averaged across neighbors it no longer reflects the exact sentiment at a given timepoint. However this still allows us to visualize the general trend"
      ]
    },
    {
      "cell_type": "markdown",
      "metadata": {
        "id": "KcfqqjwowfYC",
        "colab_type": "text"
      },
      "source": [
        "Save the scores and transcript as pickle files"
      ]
    },
    {
      "cell_type": "code",
      "metadata": {
        "id": "uZofYS6WfxeH",
        "colab_type": "code",
        "colab": {}
      },
      "source": [
        "#sentiment scores\n",
        "outfile_name = 'nfl_SA/eagles_900-10-0_vader-comp.pickle' #900 steps, 10 second windows, 0 overlap, VADER compound score\n",
        "outpath = os.path.join(current_dir, outfile_name)\n",
        "with open(outpath, 'wb') as pickle_out:\n",
        "    pickle.dump(scores, pickle_out)\n",
        "    pickle_out.close()\n",
        "\n",
        "#transcript\n",
        "outfile_name = 'nfl_SA/eagles_900-10-0_vader-comp_transcript.pickle'\n",
        "outpath = os.path.join(current_dir, outfile_name)\n",
        "with open(outpath, 'wb') as pickle_out:\n",
        "    pickle.dump(transcript, pickle_out)\n",
        "    pickle_out.close()"
      ],
      "execution_count": 0,
      "outputs": []
    },
    {
      "cell_type": "markdown",
      "metadata": {
        "id": "FL0HCX1Hk8cx",
        "colab_type": "text"
      },
      "source": [
        "----"
      ]
    },
    {
      "cell_type": "markdown",
      "metadata": {
        "id": "R8SquChF74TZ",
        "colab_type": "text"
      },
      "source": [
        "Loading the data back in"
      ]
    },
    {
      "cell_type": "code",
      "metadata": {
        "id": "RJ_oQc03pfSd",
        "colab_type": "code",
        "colab": {}
      },
      "source": [
        "import pickle\n",
        "\n",
        "#load the scores variable\n",
        "infile_name = 'nfl_SA/pickle_files/eagles_900-10-0_vader-comp.pickle'\n",
        "inpath = os.path.join(current_dir, infile_name)\n",
        "with open(inpath, 'rb') as pickle_in:\n",
        "    scores = pickle.load(pickle_in)\n",
        "  \n",
        "#load the transcript variable\n",
        "infile_name = 'nfl_SA/pickle_files/eagles_900-10-0_vader-comp_transcript.pickle'\n",
        "inpath = os.path.join(current_dir, infile_name)\n",
        "with open(inpath, 'rb') as pickle_in:\n",
        "    transcript = pickle.load(pickle_in)"
      ],
      "execution_count": 0,
      "outputs": []
    }
  ]
}